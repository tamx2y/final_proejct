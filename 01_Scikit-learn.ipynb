{
 "cells": [
  {
   "cell_type": "markdown",
   "id": "bd9853f8-1b23-41a8-b74f-aad713df2a97",
   "metadata": {},
   "source": [
    "### Scikit-learn\n",
    "- 다양한 머신러닝 알고리즘을 구현한 파이썬 라이브러리\n",
    "- 심플하고 일관성 있는 API, 유용한 온라인 문서, 풍부한 예제를 제공한다\n",
    "- 머신러닝을 위한 쉽고 효율적 개발 라이브러리를 제공한다.\n",
    "- 다양한 머신러닝 관련 알고리즘과 개발을 위한 프레임워크와 API를 제공한다\n",
    "- 많은 사람들이 사용하며 다양한 환경에서 검증된 라이브러리"
   ]
  },
  {
   "cell_type": "markdown",
   "id": "00483e7f-0fc7-4c02-b249-c5c79a0d4379",
   "metadata": {},
   "source": [
    "### 머신러닝 학습 방식\n",
    "- 지도학습 : 입력데이터와 예측할 결과데이터를 주는 학습 방법. 결과 예측\n",
    "- 비지도학습 : 입력데이터만 주는 학습 방법. 가공, 군집, 차원축소 등등의 목적\n",
    "- 강화학습 : 환경, 동작, 에이전트, 상벌 등을 결정하여 상을 받는 쪽의 결과가 나올 수 있는 데이터를 생산하는 학습 방법"
   ]
  },
  {
   "cell_type": "markdown",
   "id": "fd365c67-21cc-496b-b9d9-0c0bcfb1ed28",
   "metadata": {},
   "source": [
    "### 예측 결과에 따라서..\n",
    "- 분류 : 결과 데이터가 레이블형(혈액형, 성별 등)인 경우의 지도학습\n",
    "- 회귀 : 결과 데이터가 범위형 데이터(주식시세, 키, 몸무게 등)인 경우의 지도학습\n",
    "- 클러스터링 : 주어진 데이터의 패턴을 분석하여 그룹으로 묶어주는 비 지도학습"
   ]
  },
  {
   "cell_type": "markdown",
   "id": "9ce27e39-acf0-4e3c-a291-92a88f0bcd58",
   "metadata": {},
   "source": [
    "### scikit-learn 주요 모듈\n",
    "\n",
    "\n",
    "| 모듈 | 설명 |\n",
    "|------|-------|\n",
    "| sklearn.datasets | 내장된 예제 데이터 세트 |\n",
    "| sklearn.preprocessing | 다양한 데이터 전처리 기능을 제공 |\n",
    "| sklearn.feature_selection | 특징(feature)를 선택할 수 있는 기능 제공 |\n",
    "| sklearn.feature_extraction | 특징(feature)을 추출에 사용 |\n",
    "| sklearn.decomposition | 차원 축소 관련 알고리즘 지원 |\n",
    "| sklearn.model_selection | 검증, 평가 등을 통해 최적의 알고리즘을 찾을 수 있도록 하는 기능을 제공한다 |\n",
    "| sklearn.metrics | 머신러닝 알고리즘에 대해 평가할 수 있는 라이브러리 |\n",
    "| 학습 모델에 관련된 것들 | 다양한 머신러닝을 알고리즘을 구현해 제공하는 라이브러리들 |"
   ]
  },
  {
   "cell_type": "markdown",
   "id": "ccd69091-21ba-4496-8830-9734329ed28d",
   "metadata": {},
   "source": [
    "### 작업 과정\n",
    "- scikit-learn에서 제공하는 학습 알고리즘 객체를 생성한다.\n",
    "- 생성한 알고리즘 객체를 최적화 하기 위한 하이퍼 파라미터 튜닝을 한다.\n",
    "- 데이터를 알고리즘 객체에 주어 학습을 한다.\n",
    "- 학습이 완료된 알고리즘 객체를 통해 새롭게 발생된 데이터를 예측한다.\n",
    "- 학습시에는 fit() 함수를 사용한다.\n",
    "- 지도학습의 경우 predict() 함수를 통해 결과를 예측한다.\n",
    "- 비 지도학습의 경우에는 데이터 변환 알고리즘은 transform(), 예측 알고리즘은 predict()를 사용한다."
   ]
  },
  {
   "cell_type": "markdown",
   "id": "8107ed43-124d-4654-aa39-2cbb0b8beec6",
   "metadata": {},
   "source": [
    "![](ml_map.svg)"
   ]
  },
  {
   "cell_type": "markdown",
   "id": "0f5e704d-f74f-4791-992d-4d2c8a493a5f",
   "metadata": {},
   "source": [
    "### 위의 차트 시트를 보는 법\n",
    "- Start 부터 시작입니다.\n",
    "- &gt;50 samples : 행의 개수가 50개 미만이면 데이터를 더 구해와야 한다.\n",
    "- predicting a Category : 분류의 문제야?\n",
    "- do you have labeled data : 분류의 문제에서 결과데이터가 있어?\n",
    "- predicing a quantity : 회귀의 문제야?\n",
    "- just looking : 그냥 시각화만 할거야?\n",
    "- predicting structure : 군집의 문제야?\n",
    "- Start -> predicting a Category -> do you have labeled data : 분류 알고리즘\n",
    "- Start -> predicing a quantity : 회귀 알고리즘\n",
    "- Start -> predicting a Category -> do you have labeled data 이 No : 군집 알고리즘\n",
    "- Start -> just looking : 차원 축소"
   ]
  },
  {
   "cell_type": "markdown",
   "id": "87b706fc-5e9d-48e4-9f60-8cdf0aa9ac95",
   "metadata": {},
   "source": [
    "- 나는 카테고리형 데이터를 예측할 건데 결과데이터가 있어 -> Classification(분류)\n",
    "- 나는 수치형 데이터를 예측할거야 -> Regression(회귀)\n",
    "- 나는 카테고리형 데이터를 예측할 건데 결과데이터가 없어 -> Clustering(군집)\n",
    "- 나는 데이터를 살펴보기만 할거야 -> dimesionally reduction (차원축소)"
   ]
  },
  {
   "cell_type": "code",
   "execution_count": null,
   "id": "4a6b6352-47ce-43ec-913c-b953730ae43b",
   "metadata": {},
   "outputs": [],
   "source": []
  }
 ],
 "metadata": {
  "kernelspec": {
   "display_name": "Python 3 (ipykernel)",
   "language": "python",
   "name": "python3"
  },
  "language_info": {
   "codemirror_mode": {
    "name": "ipython",
    "version": 3
   },
   "file_extension": ".py",
   "mimetype": "text/x-python",
   "name": "python",
   "nbconvert_exporter": "python",
   "pygments_lexer": "ipython3",
   "version": "3.10.18"
  }
 },
 "nbformat": 4,
 "nbformat_minor": 5
}
